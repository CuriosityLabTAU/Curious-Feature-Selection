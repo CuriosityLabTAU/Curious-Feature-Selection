{
 "cells": [
  {
   "cell_type": "markdown",
   "metadata": {
    "collapsed": true,
    "extensions": {
     "jupyter_dashboards": {
      "version": 1,
      "views": {
       "grid_default": {
        "col": 0,
        "height": 4,
        "hidden": false,
        "row": 0,
        "width": 4
       },
       "report_default": {
        "hidden": false
       }
      }
     }
    }
   },
   "source": [
    "#### 1. Importing all the libraries"
   ]
  },
  {
   "cell_type": "code",
   "execution_count": 23,
   "metadata": {
    "collapsed": true,
    "extensions": {
     "jupyter_dashboards": {
      "version": 1,
      "views": {
       "grid_default": {
        "hidden": true
       },
       "report_default": {
        "hidden": true
       }
      }
     }
    }
   },
   "outputs": [],
   "source": [
    "import pandas as pd\n",
    "import numpy as np\n",
    "from matplotlib import pyplot as plt\n",
    "import seaborn as sns"
   ]
  },
  {
   "cell_type": "markdown",
   "metadata": {
    "extensions": {
     "jupyter_dashboards": {
      "version": 1,
      "views": {
       "grid_default": {
        "col": 4,
        "height": 4,
        "hidden": false,
        "row": 4,
        "width": 4
       },
       "report_default": {
        "hidden": false
       }
      }
     }
    }
   },
   "source": [
    "#### 2. Define the parameters "
   ]
  },
  {
   "cell_type": "code",
   "execution_count": 24,
   "metadata": {
    "collapsed": true,
    "extensions": {
     "jupyter_dashboards": {
      "version": 1,
      "views": {
       "grid_default": {
        "hidden": true
       },
       "report_default": {
        "hidden": true
       }
      }
     }
    }
   },
   "outputs": [],
   "source": [
    "location = 'C:/Users/mmoran1/Documents/TAU/Thesis/Datasets'\n",
    "Learner = 'NB' #DT #KNN #SVM\n",
    "file='diabetic_data' #adult #diabetic_data #Census_Income_KDD #No_show\n",
    "\n",
    "filename= file +'_int.csv'"
   ]
  },
  {
   "cell_type": "markdown",
   "metadata": {
    "extensions": {
     "jupyter_dashboards": {
      "version": 1,
      "views": {
       "grid_default": {
        "col": 8,
        "height": 4,
        "hidden": false,
        "row": 0,
        "width": 4
       },
       "report_default": {
        "hidden": false
       }
      }
     }
    }
   },
   "source": [
    "#### 3. Reading the files"
   ]
  },
  {
   "cell_type": "code",
   "execution_count": 25,
   "metadata": {
    "collapsed": true,
    "extensions": {
     "jupyter_dashboards": {
      "version": 1,
      "views": {
       "grid_default": {
        "hidden": true
       },
       "report_default": {
        "hidden": true
       }
      }
     }
    }
   },
   "outputs": [],
   "source": [
    "data = pd.read_csv(location + '/' + filename, index_col=0)\n",
    "#data=data[[0, 9, 10, 5, 4, 3, 6, 1, 8, 7, 12]]\n",
    "#data=data[[0, 1, 2, 3, 4, 5, 7, 8, 11 , 12]]       \n",
    "\n",
    "# data=data[[0, 2, 10, 11, 12]]  \n",
    "# data=data[[0, 1, 2, 3, 4, 5, 7, 8, 11, 12]]  \n",
    "# data=data[[0, 2, 3, 4, 5,  8, 11, 12]]  \n",
    "#data=data[[0, 1, 2, 3, 4, 5, 6, 7, 8, 10, 11, 12]]  \n",
    "\n",
    "#data=data[[3, 4, 6, 7, 9, 12]]\n",
    "#data=data[[2, 3, 5, 6, 7, 8, 9, 11, 12]]\n",
    "# data=data[[0,1,2,3,4,5,6,7,8,9,10,11,12,13,14,15,16,17,18,19,20,24,25,26,27,28,29,32,33,36,38,40,41,42,43,44]]\n",
    "# data=data[[0,1,2,3,4,5,6,7,8,9,10,11,12,13,14,15,16,19,24,25,27,33,38,40,42,43,44]]\n",
    "#data=data[[0,1,2,3,4,5,6,7,8,9,10,11,12,13,14,15,16,18,19,25,26,36,42,44]]\n",
    "\n",
    "data=data[[25, 12, 38, 44]]\n"
   ]
  },
  {
   "cell_type": "markdown",
   "metadata": {
    "extensions": {
     "jupyter_dashboards": {
      "version": 1,
      "views": {
       "grid_default": {
        "col": 0,
        "height": 4,
        "hidden": false,
        "row": 4,
        "width": 4
       },
       "report_default": {
        "hidden": false
       }
      }
     }
    }
   },
   "source": [
    "#### 4.Separating features and label (need to change it to parameters) "
   ]
  },
  {
   "cell_type": "code",
   "execution_count": 26,
   "metadata": {
    "extensions": {
     "jupyter_dashboards": {
      "version": 1,
      "views": {
       "grid_default": {
        "col": 4,
        "height": 4,
        "hidden": false,
        "row": 0,
        "width": 4
       },
       "report_default": {
        "hidden": false
       }
      }
     }
    }
   },
   "outputs": [
    {
     "name": "stdout",
     "output_type": "stream",
     "text": [
      "       glipizide  number_inpatient  glipizide-metformin  readmitted\n",
      "25415          1                 0                    0           2\n",
      "54687          1                 1                    0           1\n"
     ]
    }
   ],
   "source": [
    "X = data.iloc[:,0:data.shape[1]-1]  # all rows, all the features and no labels\n",
    "y = data.iloc[:, -1]  # all rows, label only\n",
    "\n",
    "Columns=X\n",
    "print (data.head(2))"
   ]
  },
  {
   "cell_type": "code",
   "execution_count": 27,
   "metadata": {
    "extensions": {
     "jupyter_dashboards": {
      "version": 1,
      "views": {
       "grid_default": {
        "col": 0,
        "height": 5,
        "hidden": false,
        "row": 8,
        "width": 5
       },
       "report_default": {
        "hidden": false
       }
      }
     }
    }
   },
   "outputs": [
    {
     "name": "stdout",
     "output_type": "stream",
     "text": [
      "       glipizide  number_inpatient  glipizide-metformin\n",
      "25415          1                 0                    0\n",
      "54687          1                 1                    0\n",
      "53637          1                 0                    0\n"
     ]
    }
   ],
   "source": [
    "X.head(3)\n",
    "print (X.head(3))"
   ]
  },
  {
   "cell_type": "code",
   "execution_count": 28,
   "metadata": {
    "extensions": {
     "jupyter_dashboards": {
      "version": 1,
      "views": {
       "grid_default": {
        "col": 8,
        "height": 4,
        "hidden": false,
        "row": 4,
        "width": 4
       },
       "report_default": {
        "hidden": false
       }
      }
     }
    }
   },
   "outputs": [
    {
     "data": {
      "text/plain": [
       "25415    2\n",
       "54687    1\n",
       "53637    0\n",
       "Name: readmitted, dtype: int64"
      ]
     },
     "execution_count": 28,
     "metadata": {},
     "output_type": "execute_result"
    }
   ],
   "source": [
    "y.head(3)"
   ]
  },
  {
   "cell_type": "markdown",
   "metadata": {
    "extensions": {
     "jupyter_dashboards": {
      "version": 1,
      "views": {
       "grid_default": {
        "col": 8,
        "height": 4,
        "hidden": false,
        "row": 8,
        "width": 4
       },
       "report_default": {
        "hidden": false
       }
      }
     }
    }
   },
   "source": [
    "#### 5. Split into train and test"
   ]
  },
  {
   "cell_type": "code",
   "execution_count": 29,
   "metadata": {
    "collapsed": true,
    "extensions": {
     "jupyter_dashboards": {
      "version": 1,
      "views": {
       "grid_default": {
        "hidden": true
       },
       "report_default": {
        "hidden": true
       }
      }
     }
    }
   },
   "outputs": [],
   "source": [
    "from sklearn.model_selection import train_test_split\n",
    "X_train, X_test, y_train, y_test = train_test_split(X,y,test_size=0.2,random_state=4)"
   ]
  },
  {
   "cell_type": "markdown",
   "metadata": {
    "extensions": {
     "jupyter_dashboards": {
      "version": 1,
      "views": {
       "grid_default": {
        "col": 5,
        "height": 4,
        "hidden": false,
        "row": 12,
        "width": 4
       },
       "report_default": {
        "hidden": false
       }
      }
     }
    }
   },
   "source": [
    "#### 6. Run Learners"
   ]
  },
  {
   "cell_type": "code",
   "execution_count": 30,
   "metadata": {
    "extensions": {
     "jupyter_dashboards": {
      "version": 1,
      "views": {
       "grid_default": {
        "col": 0,
        "height": 4,
        "hidden": false,
        "row": 13,
        "width": 4
       },
       "report_default": {
        "hidden": false
       }
      }
     }
    }
   },
   "outputs": [
    {
     "data": {
      "text/plain": [
       "0.56781914893617025"
      ]
     },
     "execution_count": 30,
     "metadata": {},
     "output_type": "execute_result"
    }
   ],
   "source": [
    "from sklearn.model_selection import cross_val_score\n",
    "from sklearn import metrics\n",
    "from sklearn import tree\n",
    "from sklearn.ensemble import ExtraTreesClassifier\n",
    "from sklearn.ensemble import GradientBoostingClassifier\n",
    "from sklearn.neighbors import KNeighborsClassifier\n",
    "from sklearn.svm import SVC\n",
    "from sklearn.naive_bayes import MultinomialNB\n",
    "from sklearn.neural_network import MLPClassifier\n",
    "from sklearn.linear_model import LogisticRegression\n",
    "from sklearn.ensemble import AdaBoostClassifier\n",
    "from sklearn.ensemble import GradientBoostingClassifier\n",
    "\n",
    "\n",
    "if Learner == 'DT':\n",
    "    Learner = tree.DecisionTreeClassifier()\n",
    "    Learner = Learner.fit(X_train, y_train)\n",
    "    y_pred = Learner.predict(X_test) \n",
    "elif Learner == 'KNN':\n",
    "    Learner = KNeighborsClassifier(metric='hamming',n_neighbors=5)\n",
    "    Learner = Learner.fit(X_train, y_train)\n",
    "    y_pred = Learner.predict(X_test)        \n",
    "elif Learner == 'SVM':\n",
    "    Learner = SVC()\n",
    "    Learner = Learner.fit(X_train, y_train)\n",
    "    y_pred = Learner.predict(X_test)        \n",
    "elif Learner == 'NB':\n",
    "    Learner = MultinomialNB()\n",
    "    Learner = Learner.fit(X_train, y_train)\n",
    "    y_pred = Learner.predict(X_test)       \n",
    "elif Learner == 'NN':\n",
    "    Learner = MLPClassifier(hidden_layer_sizes=(10,10,10 ))\n",
    "    Learner = Learner.fit(X_train, y_train)\n",
    "    y_pred = Learner.predict(X_test) \n",
    "elif Learner == 'LR':\n",
    "    Learner = LogisticRegression()\n",
    "    Learner = Learner.fit(X_train, y_train)\n",
    "    y_pred = Learner.predict(X_test)\n",
    "elif Learner == 'AB':\n",
    "    Learner = AdaBoostClassifier()\n",
    "    Learner = Learner.fit(X_train, y_train)\n",
    "    y_pred = Learner.predict(X_test)  \n",
    "elif Learner == 'GB':\n",
    "    Learner = GradientBoostingClassifier()\n",
    "    Learner = Learner.fit(X_train, y_train)\n",
    "    y_pred = Learner.predict(X_test)  \n",
    "    \n",
    "    \n",
    "metrics.accuracy_score(y_test, y_pred)\n",
    "#   Learner"
   ]
  },
  {
   "cell_type": "code",
   "execution_count": 31,
   "metadata": {
    "extensions": {
     "jupyter_dashboards": {
      "version": 1,
      "views": {
       "grid_default": {
        "col": 4,
        "height": 4,
        "hidden": false,
        "row": 16,
        "width": 4
       },
       "report_default": {
        "hidden": false
       }
      }
     }
    }
   },
   "outputs": [
    {
     "data": {
      "text/plain": [
       "array([[  48,  548, 1468],\n",
       "       [  45, 1260, 4977],\n",
       "       [  16,  746, 8940]])"
      ]
     },
     "execution_count": 31,
     "metadata": {},
     "output_type": "execute_result"
    }
   ],
   "source": [
    "confusion_matrix=metrics.confusion_matrix(y_test,y_pred)\n",
    "confusion_matrix"
   ]
  },
  {
   "cell_type": "code",
   "execution_count": 32,
   "metadata": {
    "extensions": {
     "jupyter_dashboards": {
      "version": 1,
      "views": {
       "grid_default": {
        "hidden": true
       },
       "report_default": {
        "hidden": true
       }
      }
     }
    }
   },
   "outputs": [
    {
     "data": {
      "text/plain": [
       "array([[2064,    0,    0],\n",
       "       [   0, 6282,    0],\n",
       "       [   0,    0, 9702]])"
      ]
     },
     "execution_count": 32,
     "metadata": {},
     "output_type": "execute_result"
    }
   ],
   "source": [
    "confusion_matrix=metrics.confusion_matrix(y_test,y_test)\n",
    "confusion_matrix"
   ]
  },
  {
   "cell_type": "code",
   "execution_count": null,
   "metadata": {
    "collapsed": true
   },
   "outputs": [],
   "source": []
  },
  {
   "cell_type": "code",
   "execution_count": null,
   "metadata": {
    "collapsed": true
   },
   "outputs": [],
   "source": []
  }
 ],
 "metadata": {
  "extensions": {
   "jupyter_dashboards": {
    "activeView": "grid_default",
    "version": 1,
    "views": {
     "grid_default": {
      "cellMargin": 10,
      "defaultCellHeight": 20,
      "maxColumns": 12,
      "name": "grid",
      "type": "grid"
     },
     "report_default": {
      "name": "report",
      "type": "report"
     }
    }
   }
  },
  "kernelspec": {
   "display_name": "Python 3",
   "language": "python",
   "name": "python3"
  },
  "language_info": {
   "codemirror_mode": {
    "name": "ipython",
    "version": 3
   },
   "file_extension": ".py",
   "mimetype": "text/x-python",
   "name": "python",
   "nbconvert_exporter": "python",
   "pygments_lexer": "ipython3",
   "version": "3.6.3"
  }
 },
 "nbformat": 4,
 "nbformat_minor": 1
}
