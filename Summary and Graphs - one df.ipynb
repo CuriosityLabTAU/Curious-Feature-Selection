{
 "cells": [
  {
   "cell_type": "code",
   "execution_count": 1,
   "metadata": {
    "collapsed": true
   },
   "outputs": [],
   "source": [
    "import pandas as pd\n",
    "import numpy as np\n",
    "import os\n",
    "import matplotlib.pyplot as plt\n",
    "from matplotlib.collections import LineCollection"
   ]
  },
  {
   "cell_type": "markdown",
   "metadata": {},
   "source": [
    "Define Parameters"
   ]
  },
  {
   "cell_type": "code",
   "execution_count": 4,
   "metadata": {},
   "outputs": [],
   "source": [
    "experiment='New_adult_DT_30'\n",
    "location = 'C:/Users/mmoran1/Documents/TAU/Thesis/Experiments/'+ str(experiment)\n",
    "filename='df.xlsx'\n",
    "\n",
    "variance_train=float(0.816) \n",
    "chi2_80_train=float(0.814)\n",
    "chi2_60_train=float(0.814)\n",
    "DT_MIF_train=float(0.816)\n",
    "\n",
    "variance_test=float(0.7955)\n",
    "chi2_80_test=float(0.7918)\n",
    "chi2_60_test=float(0.8066)\n",
    "DT_MIF_test=float(0.7955)\n",
    "\n",
    "Policy_Baseline='[0, 1, 2, 3, 4, 5, 6, 7, 8, 9, 10, 11]'\n",
    "Policy_Variance='[0, 1, 2, 3, 4, 5, 6, 8, 9, 10, 11]'\n",
    "Policy_chi2_80='[0, 2, 3, 4, 5, 7, 8, 9, 10]'\n",
    "Policy_chi2_60='[0, 3, 5, 7, 8, 9, 10]'\n",
    "Policy_DT_MIF='[0, 1, 2, 3, 4, 5, 6, 8, 9, 10, 11]'\n",
    "\n",
    "\n",
    "\n",
    "#new_adult_DT_2 / new_adult_NB_2\n",
    "# Policy_Baseline='[0, 1, 2, 3, 4, 5, 6, 7, 8, 9, 10, 11]'\n",
    "# Policy_Variance='[0, 1, 2, 3, 4, 5, 6, 8, 9, 10, 11]'\n",
    "# Policy_chi2_80='[0, 2, 3, 4, 5, 7, 8, 9, 10]'\n",
    "# Policy_chi2_60='[0, 3, 5, 7, 8, 9, 10]'\n",
    "# Policy_DT_MIF='[0, 1, 2, 3, 4, 5, 6, 8, 9, 10, 11]\n",
    "\n",
    "#new_diabetic_data_DT #new_diabetic_data_NB\n",
    "# Policy_Baseline='all columns [0-43]'\n",
    "# Policy_Variance='[0,1,2,3,4,5,6,7,8,9,10,11,12,13,14,15,16,18,36,42]'\n",
    "# Policy_chi2_80='[0,1,2,3,4,5,6,7,8,9,10,11,12,13,14,15,16,17,18,19,20,24,25,26,27,28,29,32,33,36,38,40,41,42,43]'\n",
    "# Policy_chi2_60='[0,1,2,3,4,5,6,7,8,9,10,11,12,13,14,15,16,19,24,25,27,33,38,40,42,43]'\n",
    "# Policy_DT_MIF='[0,1,2,3,4,5,6,7,8,9,10,11,12,13,14,15,16,18,19,25,26,36,42]'\n",
    "\n",
    "#New_No_show_DT #New_No_show_NB\n",
    "# Policy_Baseline='[0, 1, 2, 3, 4, 5, 6, 7, 8, 9, 10, 11]'\n",
    "# Policy_Variance='[0, 2, 10, 11]'\n",
    "# Policy_chi2_80='[0, 1, 2, 3, 4, 5, 7, 8, 11]'\n",
    "# Policy_chi2_60='[0, 2, 3, 4, 5, 8, 11]'\n",
    "# Policy_DT_MIF='[0, 1, 2, 3, 4, 5, 6, 7, 8, 10, 11]'\n"
   ]
  },
  {
   "cell_type": "markdown",
   "metadata": {
    "collapsed": true
   },
   "source": [
    "Upload experiments results"
   ]
  },
  {
   "cell_type": "code",
   "execution_count": null,
   "metadata": {},
   "outputs": [],
   "source": [
    "df1=pd.read_excel(location + '/' + filename, sheetname='Experiment0', header=0, index_col =0)\n",
    "df2=pd.read_excel(location + '/' + filename, sheetname='Experiment1', header=0, index_col =0)\n",
    "df3=pd.read_excel(location + '/' + filename, sheetname='Experiment2', header=0, index_col =0)\n",
    "df4=pd.read_excel(location + '/' + filename, sheetname='Experiment3', header=0, index_col =0)\n",
    "df5=pd.read_excel(location + '/' + filename, sheetname='Experiment4', header=0, index_col =0)\n",
    "df6=pd.read_excel(location + '/' + filename, sheetname='Experiment5', header=0, index_col =0)\n",
    "df7=pd.read_excel(location + '/' + filename, sheetname='Experiment6', header=0, index_col =0)\n",
    "df8=pd.read_excel(location + '/' + filename, sheetname='Experiment7', header=0, index_col =0)\n",
    "df9=pd.read_excel(location + '/' + filename, sheetname='Experiment8', header=0, index_col =0)\n",
    "df10=pd.read_excel(location + '/' + filename, sheetname='Experiment9', header=0, index_col =0)\n",
    "df11=pd.read_excel(location + '/' + filename, sheetname='Experiment10', header=0, index_col =0)\n",
    "df12=pd.read_excel(location + '/' + filename, sheetname='Experiment11', header=0, index_col =0)\n",
    "df13=pd.read_excel(location + '/' + filename, sheetname='Experiment12', header=0, index_col =0)\n",
    "df14=pd.read_excel(location + '/' + filename, sheetname='Experiment13', header=0, index_col =0)\n",
    "df15=pd.read_excel(location + '/' + filename, sheetname='Experiment14', header=0, index_col =0)\n",
    "df16=pd.read_excel(location + '/' + filename, sheetname='Experiment15', header=0, index_col =0)\n",
    "df17=pd.read_excel(location + '/' + filename, sheetname='Experiment16', header=0, index_col =0)\n",
    "df18=pd.read_excel(location + '/' + filename, sheetname='Experiment17', header=0, index_col =0)\n",
    "df19=pd.read_excel(location + '/' + filename, sheetname='Experiment18', header=0, index_col =0)\n",
    "df20=pd.read_excel(location + '/' + filename, sheetname='Experiment19', header=0, index_col =0)\n",
    "df21=pd.read_excel(location + '/' + filename, sheetname='Experiment20', header=0, index_col =0)\n",
    "df22=pd.read_excel(location + '/' + filename, sheetname='Experiment21', header=0, index_col =0)\n",
    "df23=pd.read_excel(location + '/' + filename, sheetname='Experiment22', header=0, index_col =0)\n",
    "df24=pd.read_excel(location + '/' + filename, sheetname='Experiment23', header=0, index_col =0)\n",
    "df25=pd.read_excel(location + '/' + filename, sheetname='Experiment24', header=0, index_col =0)\n",
    "df26=pd.read_excel(location + '/' + filename, sheetname='Experiment25', header=0, index_col =0)\n",
    "df27=pd.read_excel(location + '/' + filename, sheetname='Experiment26', header=0, index_col =0)\n",
    "df28=pd.read_excel(location + '/' + filename, sheetname='Experiment27', header=0, index_col =0)\n",
    "df39=pd.read_excel(location + '/' + filename, sheetname='Experiment28', header=0, index_col =0)\n",
    "df30=pd.read_excel(location + '/' + filename, sheetname='Experiment29', header=0, index_col =0)"
   ]
  },
  {
   "cell_type": "markdown",
   "metadata": {},
   "source": [
    "Create the summary"
   ]
  },
  {
   "cell_type": "code",
   "execution_count": 15,
   "metadata": {
    "collapsed": true
   },
   "outputs": [],
   "source": [
    "df = pd.concat([df1, df2, df3, df4, df5, df6, df7, df8, df9, df10])\n",
    "Summary = df.groupby(level=0).mean()\n",
    "Summary['Baseline_train'] =Summary.iat[0,1]\n",
    "Summary['Baseline_test'] = Summary.iat[0,2]\n",
    "Summary['variance_train'] =variance_train\n",
    "Summary['variance_test'] = variance_test\n",
    "Summary['chi2_80_train'] = chi2_80_train\n",
    "Summary['chi2_80_test'] = chi2_80_test\n",
    "Summary['chi2_60_train'] = chi2_60_train\n",
    "Summary['chi2_60_test'] = chi2_60_test\n",
    "Summary['DT_MIF_train'] = DT_MIF_train\n",
    "Summary['DT_MIF_test'] =DT_MIF_test"
   ]
  },
  {
   "cell_type": "markdown",
   "metadata": {
    "collapsed": true
   },
   "source": [
    "Training Data plot"
   ]
  },
  {
   "cell_type": "code",
   "execution_count": 16,
   "metadata": {},
   "outputs": [
    {
     "data": {
      "image/png": "[encoded data removed]",
      "text/plain": [
       "<matplotlib.figure.Figure at 0x294776a0dd8>"
      ]
     },
     "metadata": {},
     "output_type": "display_data"
    }
   ],
   "source": [
    "%matplotlib inline\n",
    "df_plot=Summary[['policy_accuracy_train','Baseline_train','variance_train','chi2_80_train','chi2_60_train','DT_MIF_train']]\n",
    "plot=df_plot.plot(title=str(experiment) +' - Training Data - Experiments Average')\n",
    "plot.set_xlabel('episode')\n",
    "plot.set_ylabel('accuracy')\n",
    "plt.legend(bbox_to_anchor=(0.98, 0.50), loc=1, borderaxespad=0.)\n",
    "\n",
    "fig = plot.get_figure()\n",
    "fig.savefig('Experiments/'+ str(experiment) + '/' + 'Training Data Summary Plot.png')"
   ]
  },
  {
   "cell_type": "markdown",
   "metadata": {},
   "source": [
    "Test Data plot"
   ]
  },
  {
   "cell_type": "code",
   "execution_count": 17,
   "metadata": {},
   "outputs": [
    {
     "data": {
      "image/png": "[encoded data removed]",
      "text/plain": [
       "<matplotlib.figure.Figure at 0x294776a0390>"
      ]
     },
     "metadata": {},
     "output_type": "display_data"
    }
   ],
   "source": [
    "%matplotlib inline\n",
    "df_plot=Summary[['policy_accuracy_test','Baseline_test','variance_test','chi2_80_test','chi2_60_test','DT_MIF_test']]\n",
    "plot=df_plot.plot(title=str(experiment) +' - Test Data - Experiments Average')\n",
    "plot.set_xlabel('episode')\n",
    "plot.set_ylabel('accuracy')\n",
    "plt.legend(bbox_to_anchor=(0.98, 0.50), loc=1, borderaxespad=0.)\n",
    "\n",
    "fig = plot.get_figure()\n",
    "fig.savefig('Experiments/'+ str(experiment) + '/' +  'Test Data Summary Plot.png')"
   ]
  },
  {
   "cell_type": "markdown",
   "metadata": {},
   "source": [
    "Policy Summary Table "
   ]
  },
  {
   "cell_type": "code",
   "execution_count": 18,
   "metadata": {
    "collapsed": true
   },
   "outputs": [],
   "source": [
    "list1=[['Experiment 1',df1.iat[-1,2],df1.iat[-1,3],df1.iat[-1,4]]]\n",
    "list2=[['Experiment 2',df2.iat[-1,2],df2.iat[-1,3],df2.iat[-1,4]]]\n",
    "list3=[['Experiment 3',df3.iat[-1,2],df3.iat[-1,3],df3.iat[-1,4]]]\n",
    "list4=[['Experiment 4',df4.iat[-1,2],df4.iat[-1,3],df4.iat[-1,4]]]\n",
    "list5=[['Experiment 5',df5.iat[-1,2],df5.iat[-1,3],df5.iat[-1,4]]]\n",
    "\n",
    "Baseline=[['Baseline',Policy_Baseline,Summary.iat[0,3],Summary.iat[0,4]]]\n",
    "Variance=[['Variance',Policy_Variance,Summary.iat[0,5],Summary.iat[0,6]]]\n",
    "chi2_80=[['chi2_80',Policy_chi2_80,Summary.iat[0,7],Summary.iat[0,8]]]\n",
    "chi2_60=[['chi2_60',Policy_chi2_60,Summary.iat[0,9],Summary.iat[0,10]]]\n",
    "DT_MIF=[['DT_MIF',Policy_DT_MIF,Summary.iat[0,11],Summary.iat[0,12]]]\n",
    "\n",
    "Lists=list1+list2+list3+list4+list5+Baseline+Variance+chi2_80+chi2_60+DT_MIF\n",
    "policy = pd.DataFrame(Lists,columns=['Experiment','Policy','Training Accuracy','Test Accuracy'])\n",
    "policy.to_csv('Experiments/'+ str(experiment)+ '/'+ 'Policy Summary.csv') "
   ]
  },
  {
   "cell_type": "code",
   "execution_count": 19,
   "metadata": {},
   "outputs": [
    {
     "data": {
      "text/html": [
       "<div>\n",
       "<table border=\"1\" class=\"dataframe\">\n",
       "  <thead>\n",
       "    <tr style=\"text-align: right;\">\n",
       "      <th></th>\n",
       "      <th>Experiment</th>\n",
       "      <th>Policy</th>\n",
       "      <th>Training Accuracy</th>\n",
       "      <th>Test Accuracy</th>\n",
       "    </tr>\n",
       "  </thead>\n",
       "  <tbody>\n",
       "    <tr>\n",
       "      <th>0</th>\n",
       "      <td>Experiment 1</td>\n",
       "      <td>[12]</td>\n",
       "      <td>0.568152</td>\n",
       "      <td>0.580758</td>\n",
       "    </tr>\n",
       "    <tr>\n",
       "      <th>1</th>\n",
       "      <td>Experiment 2</td>\n",
       "      <td>[12]</td>\n",
       "      <td>0.568152</td>\n",
       "      <td>0.580758</td>\n",
       "    </tr>\n",
       "    <tr>\n",
       "      <th>2</th>\n",
       "      <td>Experiment 3</td>\n",
       "      <td>[12]</td>\n",
       "      <td>0.568152</td>\n",
       "      <td>0.580758</td>\n",
       "    </tr>\n",
       "    <tr>\n",
       "      <th>3</th>\n",
       "      <td>Experiment 4</td>\n",
       "      <td>[12]</td>\n",
       "      <td>0.568152</td>\n",
       "      <td>0.580758</td>\n",
       "    </tr>\n",
       "    <tr>\n",
       "      <th>4</th>\n",
       "      <td>Experiment 5</td>\n",
       "      <td>[11]</td>\n",
       "      <td>0.552527</td>\n",
       "      <td>0.565304</td>\n",
       "    </tr>\n",
       "    <tr>\n",
       "      <th>5</th>\n",
       "      <td>Baseline</td>\n",
       "      <td>all columns [0-43]</td>\n",
       "      <td>0.470800</td>\n",
       "      <td>0.458026</td>\n",
       "    </tr>\n",
       "    <tr>\n",
       "      <th>6</th>\n",
       "      <td>Variance</td>\n",
       "      <td>[0,1,2,3,4,5,6,7,8,9,10,11,12,13,14,15,16,18,3...</td>\n",
       "      <td>0.469300</td>\n",
       "      <td>0.469500</td>\n",
       "    </tr>\n",
       "    <tr>\n",
       "      <th>7</th>\n",
       "      <td>chi2_80</td>\n",
       "      <td>[0,1,2,3,4,5,6,7,8,9,10,11,12,13,14,15,16,17,1...</td>\n",
       "      <td>0.469000</td>\n",
       "      <td>0.458600</td>\n",
       "    </tr>\n",
       "    <tr>\n",
       "      <th>8</th>\n",
       "      <td>chi2_60</td>\n",
       "      <td>[0,1,2,3,4,5,6,7,8,9,10,11,12,13,14,15,16,19,2...</td>\n",
       "      <td>0.468800</td>\n",
       "      <td>0.483000</td>\n",
       "    </tr>\n",
       "    <tr>\n",
       "      <th>9</th>\n",
       "      <td>DT_MIF</td>\n",
       "      <td>[0,1,2,3,4,5,6,7,8,9,10,11,12,13,14,15,16,18,1...</td>\n",
       "      <td>0.469300</td>\n",
       "      <td>0.469000</td>\n",
       "    </tr>\n",
       "  </tbody>\n",
       "</table>\n",
       "</div>"
      ],
      "text/plain": [
       "     Experiment                                             Policy  \\\n",
       "0  Experiment 1                                               [12]   \n",
       "1  Experiment 2                                               [12]   \n",
       "2  Experiment 3                                               [12]   \n",
       "3  Experiment 4                                               [12]   \n",
       "4  Experiment 5                                               [11]   \n",
       "5      Baseline                                 all columns [0-43]   \n",
       "6      Variance  [0,1,2,3,4,5,6,7,8,9,10,11,12,13,14,15,16,18,3...   \n",
       "7       chi2_80  [0,1,2,3,4,5,6,7,8,9,10,11,12,13,14,15,16,17,1...   \n",
       "8       chi2_60  [0,1,2,3,4,5,6,7,8,9,10,11,12,13,14,15,16,19,2...   \n",
       "9        DT_MIF  [0,1,2,3,4,5,6,7,8,9,10,11,12,13,14,15,16,18,1...   \n",
       "\n",
       "   Training Accuracy  Test Accuracy  \n",
       "0           0.568152       0.580758  \n",
       "1           0.568152       0.580758  \n",
       "2           0.568152       0.580758  \n",
       "3           0.568152       0.580758  \n",
       "4           0.552527       0.565304  \n",
       "5           0.470800       0.458026  \n",
       "6           0.469300       0.469500  \n",
       "7           0.469000       0.458600  \n",
       "8           0.468800       0.483000  \n",
       "9           0.469300       0.469000  "
      ]
     },
     "execution_count": 19,
     "metadata": {},
     "output_type": "execute_result"
    }
   ],
   "source": [
    "policy"
   ]
  },
  {
   "cell_type": "code",
   "execution_count": 11,
   "metadata": {
    "collapsed": true
   },
   "outputs": [],
   "source": [
    "# Summary"
   ]
  },
  {
   "cell_type": "code",
   "execution_count": null,
   "metadata": {
    "collapsed": true
   },
   "outputs": [],
   "source": []
  },
  {
   "cell_type": "code",
   "execution_count": null,
   "metadata": {
    "collapsed": true
   },
   "outputs": [],
   "source": [
    "## adult_DT_2\n",
    "# variance_train=float(0.816) \n",
    "# chi2_80_train=float(0.814)\n",
    "# chi2_60_train=float(0.814)\n",
    "# DT_MIF_train=float(0.816)\n",
    "\n",
    "# variance_test=float(0.7955)\n",
    "# chi2_80_test=float(0.7918)\n",
    "# chi2_60_test=float(0.8066)\n",
    "# DT_MIF_test=float(0.7955)\n",
    "\n",
    "\n",
    "## 'adult_NB'\n",
    "\n",
    "# variance_train=float(0.786) \n",
    "# chi2_80_train=float(0.785)\n",
    "# chi2_60_train=float(0.784)\n",
    "# DT_MIF_train=float(0.786)\n",
    "\n",
    "# variance_test=float(0.79)\n",
    "# chi2_80_test=float(0.79)\n",
    "# chi2_60_test=float(0.788)\n",
    "# DT_MIF_test=float(0.79)\n",
    "\n",
    "## 'No_Show_DT'\n",
    "# variance_train=float(0.657) \n",
    "# chi2_80_train=float(0.6329)\n",
    "# chi2_60_train=float(0.6487)\n",
    "# DT_MIF_train=float(0.6196)\n",
    "\n",
    "# variance_test=float(0.6081)\n",
    "# chi2_80_test=float(0.5828)\n",
    "# chi2_60_test=float(0.5973)\n",
    "# DT_MIF_test=float(0.5879)\n",
    "\n",
    "## 'No_Show_NB'\n",
    "# variance_train=float(0.584) \n",
    "# chi2_80_train=float(0.582)\n",
    "# chi2_60_train=float(0.5811)\n",
    "# DT_MIF_train=float(0.58196)\n",
    "\n",
    "# variance_test=float(0.5859)\n",
    "# chi2_80_test=float(0.5836)\n",
    "# chi2_60_test=float(0.5836)\n",
    "# DT_MIF_test=float(0.5831)\n",
    "\n",
    "\n",
    "## 'diabetic_data_DT_0'\n",
    "# variance_train=float(0.4693) \n",
    "# chi2_80_train=float(0.469)\n",
    "# chi2_60_train=float(0.4688)\n",
    "# DT_MIF_train=float(0.4693)\n",
    "\n",
    "# variance_test=float(0.4695)\n",
    "# chi2_80_test=float(0.4586)\n",
    "# chi2_60_test=float(0.483)\n",
    "# DT_MIF_test=float(0.469)\n",
    "\n",
    "## 'diabetic_data_NB_0'\n",
    "# variance_train=float(0.4287) \n",
    "# chi2_80_train=float(0.4288)\n",
    "# chi2_60_train=float(0.4288)\n",
    "# DT_MIF_train=float(0.4285)\n",
    "\n",
    "# variance_test=float(0.4506)\n",
    "# chi2_80_test=float(0.4506)\n",
    "# chi2_60_test=float(0.4506)\n",
    "# DT_MIF_test=float(0.4506)"
   ]
  }
 ],
 "metadata": {
  "kernelspec": {
   "display_name": "Python 3",
   "language": "python",
   "name": "python3"
  },
  "language_info": {
   "codemirror_mode": {
    "name": "ipython",
    "version": 3
   },
   "file_extension": ".py",
   "mimetype": "text/x-python",
   "name": "python",
   "nbconvert_exporter": "python",
   "pygments_lexer": "ipython3",
   "version": "3.6.0"
  }
 },
 "nbformat": 4,
 "nbformat_minor": 1
}
