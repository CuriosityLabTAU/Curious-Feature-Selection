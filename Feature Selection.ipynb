{
 "cells": [
  {
   "cell_type": "markdown",
   "metadata": {
    "collapsed": true
   },
   "source": [
    "#### 1. Importing all the libraries"
   ]
  },
  {
   "cell_type": "code",
   "execution_count": 1,
   "metadata": {
    "collapsed": true
   },
   "outputs": [],
   "source": [
    "import pandas as pd\n",
    "import numpy as np\n",
    "from matplotlib import pyplot as plt\n",
    "import seaborn as sns"
   ]
  },
  {
   "cell_type": "markdown",
   "metadata": {},
   "source": [
    "#### 2. Define the parameters "
   ]
  },
  {
   "cell_type": "code",
   "execution_count": 10,
   "metadata": {
    "collapsed": true
   },
   "outputs": [],
   "source": [
    "location = 'C:/Users/mmoran1/Documents/TAU/Thesis/Datasets'\n",
    "file='diabetic_data' #adult #diabetic_data #Census_Income_KDD\n",
    "filename= file +'_int.csv'"
   ]
  },
  {
   "cell_type": "markdown",
   "metadata": {},
   "source": [
    "#### 3. Reading the files"
   ]
  },
  {
   "cell_type": "code",
   "execution_count": 11,
   "metadata": {
    "collapsed": true
   },
   "outputs": [],
   "source": [
    "data = pd.read_csv(location + '/' + filename, index_col=0)"
   ]
  },
  {
   "cell_type": "markdown",
   "metadata": {},
   "source": [
    "#### 4.Separating features and label (need to change it to parameters) "
   ]
  },
  {
   "cell_type": "code",
   "execution_count": 12,
   "metadata": {},
   "outputs": [
    {
     "name": "stdout",
     "output_type": "stream",
     "text": [
      "       race  gender  age  admission_type_id  discharge_disposition_id  \\\n",
      "25415     3       0    8                  0                         5   \n",
      "54687     3       1    5                  4                         0   \n",
      "\n",
      "       admission_source_id  time_in_hospital  num_lab_procedures  \\\n",
      "25415                    6                 4                  60   \n",
      "54687                    0                 1                  63   \n",
      "\n",
      "       num_procedures  num_medications     ...      citoglipton  insulin  \\\n",
      "25415               0               11     ...                0        1   \n",
      "54687               0               22     ...                0        3   \n",
      "\n",
      "       glyburide-metformin  glipizide-metformin  glimepiride-pioglitazone  \\\n",
      "25415                    1                    0                         0   \n",
      "54687                    1                    0                         0   \n",
      "\n",
      "       metformin-rosiglitazone  metformin-pioglitazone  change  diabetesMed  \\\n",
      "25415                        0                       0       1            1   \n",
      "54687                        0                       0       0            1   \n",
      "\n",
      "       readmitted  \n",
      "25415           2  \n",
      "54687           1  \n",
      "\n",
      "[2 rows x 45 columns]\n"
     ]
    }
   ],
   "source": [
    "X = data.iloc[:,0:data.shape[1]-1]  # all rows, all the features and no labels\n",
    "y = data.iloc[:, -1]  # all rows, label only\n",
    "\n",
    "Columns=X\n",
    "print (data.head(2))"
   ]
  },
  {
   "cell_type": "markdown",
   "metadata": {},
   "source": [
    "## Feture selection methods"
   ]
  },
  {
   "cell_type": "code",
   "execution_count": 13,
   "metadata": {},
   "outputs": [
    {
     "name": "stdout",
     "output_type": "stream",
     "text": [
      "                           0\n",
      "0                       race\n",
      "1                     gender\n",
      "2                        age\n",
      "3          admission_type_id\n",
      "4   discharge_disposition_id\n",
      "5        admission_source_id\n",
      "6           time_in_hospital\n",
      "7         num_lab_procedures\n",
      "8             num_procedures\n",
      "9            num_medications\n",
      "10         number_outpatient\n",
      "11          number_emergency\n",
      "12          number_inpatient\n",
      "13                    diag_1\n",
      "14                    diag_2\n",
      "15                    diag_3\n",
      "16          number_diagnoses\n",
      "17             max_glu_serum\n",
      "18                 A1Cresult\n",
      "19                 metformin\n",
      "20               repaglinide\n",
      "21               nateglinide\n",
      "22            chlorpropamide\n",
      "23               glimepiride\n",
      "24             acetohexamide\n",
      "25                 glipizide\n",
      "26                 glyburide\n",
      "27               tolbutamide\n",
      "28              pioglitazone\n",
      "29             rosiglitazone\n",
      "30                  acarbose\n",
      "31                  miglitol\n",
      "32              troglitazone\n",
      "33                tolazamide\n",
      "34                   examide\n",
      "35               citoglipton\n",
      "36                   insulin\n",
      "37       glyburide-metformin\n",
      "38       glipizide-metformin\n",
      "39  glimepiride-pioglitazone\n",
      "40   metformin-rosiglitazone\n",
      "41    metformin-pioglitazone\n",
      "42                    change\n",
      "43               diabetesMed\n",
      "44                readmitted\n"
     ]
    }
   ],
   "source": [
    "a=data.columns.values\n",
    "b=pd.DataFrame(a)\n",
    "b.to_csv(filename + '_features.csv')\n",
    "print(b)"
   ]
  },
  {
   "cell_type": "markdown",
   "metadata": {},
   "source": [
    "##### 1. Removing features with low variance"
   ]
  },
  {
   "cell_type": "markdown",
   "metadata": {},
   "source": [
    "VarianceThreshold is a simple baseline approach to feature selection. It removes all features whose variance doesn’t meet some threshold. By default, it removes all zero-variance features, i.e. features that have the same value in all samples.\n",
    "As an example, suppose that we have a dataset with boolean features, and we want to remove all features that are either one or zero (on or off) in more than 80% of the samples. Boolean features are Bernoulli random variables, and the variance of such variables is given by\n",
    "{Var}[X] = p(1 - p)"
   ]
  },
  {
   "cell_type": "code",
   "execution_count": 6,
   "metadata": {},
   "outputs": [
    {
     "name": "stdout",
     "output_type": "stream",
     "text": [
      "[0, 2, 10, 11]\n",
      "['Age', 'DayOfTheWeek', 'Sms_Reminder', 'AwaitingTime']\n"
     ]
    }
   ],
   "source": [
    "from sklearn.feature_selection import VarianceThreshold\n",
    "columns = data.columns\n",
    "sel = VarianceThreshold(threshold=(.6 * (1 - .6)))\n",
    "sel.fit_transform(data)\n",
    "features_id = sel.get_support(indices = True).tolist() #returns an array of integers corresponding to nonremoved features\n",
    "features_name = [column for column in data[features_id]] #Array of all nonremoved features' names\n",
    "print(features_id)\n",
    "print(features_name)"
   ]
  },
  {
   "cell_type": "markdown",
   "metadata": {},
   "source": [
    "#####  2. Univariate feature selection"
   ]
  },
  {
   "cell_type": "markdown",
   "metadata": {},
   "source": [
    "Univariate feature selection works by selecting the best features based on univariate statistical tests. It can be seen as a preprocessing step to an estimator. Scikit-learn exposes feature selection routines as objects that implement the transform method:\n",
    "* <b>SelectKBest</b> removes all but the k highest scoring features\n",
    "* <b>SelectPercentile</b> removes all but a user-specified highest scoring percentage of features\n"
   ]
  },
  {
   "cell_type": "code",
   "execution_count": 13,
   "metadata": {
    "scrolled": true
   },
   "outputs": [
    {
     "name": "stdout",
     "output_type": "stream",
     "text": [
      "[0, 1, 2, 3, 4, 5, 7, 8, 11]\n",
      "['Age', 'Gender', 'DayOfTheWeek', 'Diabetes', 'Alcoolism', 'HiperTension', 'Smokes', 'Scholarship', 'AwaitingTime']\n"
     ]
    }
   ],
   "source": [
    "from sklearn.feature_selection import SelectKBest\n",
    "from sklearn.feature_selection import SelectPercentile\n",
    "from sklearn.feature_selection import chi2\n",
    "#ch2 = SelectKBest(chi2, k = 20).fit(X, y)\n",
    "ch2 = SelectPercentile(chi2, percentile=80).fit(X, y)\n",
    "features_id = ch2.get_support(indices = True).tolist() #returns an array of integers corresponding to nonremoved features\n",
    "features_name = [column for column in X[features_id]] #Array of all nonremoved features' names\n",
    "print(features_id)\n",
    "print(features_name)"
   ]
  },
  {
   "cell_type": "markdown",
   "metadata": {
    "collapsed": true
   },
   "source": [
    "More Statistical tests:\n",
    "* <b>f_classif</b>\n",
    "    ANOVA F-value between label/feature for classification tasks.\n",
    "* <b>mutual_info_classif</b>\n",
    "    Mutual information for a discrete target.\n",
    "* <b>chi2</b>\n",
    "    Chi-squared stats of non-negative features for classification tasks.\n",
    "* <b>f_regression</b>\n",
    "    F-value between label/feature for regression tasks.\n",
    "* <b>mutual_info_regression</b>\n",
    "    Mutual information for a continious target.\n",
    "* <b>SelectPercentile</b>\n",
    "    Select features based on percentile of the highest scores.\n",
    "* <b>SelectFpr</b>\n",
    "    Select features based on a false positive rate test.\n",
    "* <b>SelectFdr</b>\n",
    "    Select features based on an estimated false discovery rate.\n",
    "* <b>SelectFwe</b>\n",
    "    Select features based on family-wise error rate.\n",
    "* <b>GenericUnivariateSelect</b>\n",
    "    Univariate feature selector with configurable mode."
   ]
  },
  {
   "cell_type": "markdown",
   "metadata": {},
   "source": [
    "##### 3.Tree-based feature selection"
   ]
  },
  {
   "cell_type": "code",
   "execution_count": 12,
   "metadata": {},
   "outputs": [
    {
     "name": "stdout",
     "output_type": "stream",
     "text": [
      "         feature  importance\n",
      "0            Age       0.331\n",
      "1         Gender       0.066\n",
      "2   DayOfTheWeek       0.142\n",
      "3       Diabetes       0.035\n",
      "4      Alcoolism       0.010\n",
      "5   HiperTension       0.051\n",
      "6        Handcap       0.022\n",
      "7         Smokes       0.017\n",
      "8    Scholarship       0.026\n",
      "9   Tuberculosis       0.001\n",
      "10  Sms_Reminder       0.012\n",
      "11  AwaitingTime       0.288\n"
     ]
    }
   ],
   "source": [
    "from sklearn.ensemble import ExtraTreesClassifier\n",
    "from sklearn import tree\n",
    "from sklearn.model_selection import train_test_split\n",
    "X_train, X_test, y_train, y_test = train_test_split(X,y,test_size=0.2,random_state=4)\n",
    "Learner = tree.DecisionTreeClassifier()\n",
    "Learner = Learner.fit(X_train, y_train)\n",
    "importances = pd.DataFrame({'feature':Columns.columns,'importance':np.round(Learner.feature_importances_,3)})\n",
    "#importances = importances.sort_values('importance',ascending=False).set_index('feature')\n",
    "print(importances)"
   ]
  },
  {
   "cell_type": "code",
   "execution_count": null,
   "metadata": {
    "collapsed": true
   },
   "outputs": [],
   "source": []
  }
 ],
 "metadata": {
  "kernelspec": {
   "display_name": "Python 3",
   "language": "python",
   "name": "python3"
  },
  "language_info": {
   "codemirror_mode": {
    "name": "ipython",
    "version": 3
   },
   "file_extension": ".py",
   "mimetype": "text/x-python",
   "name": "python",
   "nbconvert_exporter": "python",
   "pygments_lexer": "ipython3",
   "version": "3.6.0"
  }
 },
 "nbformat": 4,
 "nbformat_minor": 1
}
